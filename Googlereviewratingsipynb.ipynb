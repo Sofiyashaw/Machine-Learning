{
  "nbformat": 4,
  "nbformat_minor": 0,
  "metadata": {
    "colab": {
      "provenance": []
    },
    "kernelspec": {
      "name": "python3",
      "display_name": "Python 3"
    },
    "language_info": {
      "name": "python"
    }
  },
  "cells": [
    {
      "cell_type": "markdown",
      "source": [
        "# Load the libraries"
      ],
      "metadata": {
        "id": "uFNOXXnne10H"
      }
    },
    {
      "cell_type": "code",
      "source": [
        "import numpy as np\n",
        "import pandas as pd\n",
        "import matplotlib.pyplot as plt\n",
        "import seaborn as sns\n",
        "from sklearn.model_selection import train_test_split,RandomizedSearchCV\n",
        "from sklearn.linear_model import LogisticRegression\n",
        "from sklearn.tree import DecisionTreeClassifier\n",
        "from sklearn.ensemble import RandomForestClassifier,AdaBoostClassifier,GradientBoostingClassifier\n",
        "from sklearn.neighbors import KNeighborsClassifier\n",
        "from sklearn.metrics import accuracy_score,confusion_matrix,classification_report\n",
        "from sklearn.preprocessing import LabelEncoder\n",
        "from scipy.stats import chi2_contingency\n",
        "from sklearn.svm import SVC\n",
        "from sklearn.cluster import KMeans\n",
        "from sklearn.metrics import silhouette_score\n",
        "from scipy.cluster.hierarchy import linkage,dendrogram"
      ],
      "metadata": {
        "id": "G9OxGcrMe6az"
      },
      "execution_count": null,
      "outputs": []
    },
    {
      "cell_type": "markdown",
      "source": [
        "# Load the data"
      ],
      "metadata": {
        "id": "3nC5f2x2fBgz"
      }
    },
    {
      "cell_type": "code",
      "source": [
        "df=pd.read_csv('/content/google_reviews_dataset.csv')"
      ],
      "metadata": {
        "id": "IZg7Qd8hfDtU"
      },
      "execution_count": null,
      "outputs": []
    },
    {
      "cell_type": "code",
      "source": [
        "df.info()"
      ],
      "metadata": {
        "colab": {
          "base_uri": "https://localhost:8080/"
        },
        "id": "yacaOg7Mf82i",
        "outputId": "cd4635fa-818d-4005-f1bb-4a0c3da74d53"
      },
      "execution_count": null,
      "outputs": [
        {
          "output_type": "stream",
          "name": "stdout",
          "text": [
            "<class 'pandas.core.frame.DataFrame'>\n",
            "RangeIndex: 5456 entries, 0 to 5455\n",
            "Data columns (total 25 columns):\n",
            " #   Column       Non-Null Count  Dtype  \n",
            "---  ------       --------------  -----  \n",
            " 0   User         5456 non-null   object \n",
            " 1   Category 1   5456 non-null   float64\n",
            " 2   Category 2   5456 non-null   float64\n",
            " 3   Category 3   5456 non-null   float64\n",
            " 4   Category 4   5456 non-null   float64\n",
            " 5   Category 5   5456 non-null   float64\n",
            " 6   Category 6   5456 non-null   float64\n",
            " 7   Category 7   5456 non-null   float64\n",
            " 8   Category 8   5456 non-null   float64\n",
            " 9   Category 9   5456 non-null   float64\n",
            " 10  Category 10  5456 non-null   float64\n",
            " 11  Category 11  5456 non-null   object \n",
            " 12  Category 12  5455 non-null   float64\n",
            " 13  Category 13  5456 non-null   float64\n",
            " 14  Category 14  5456 non-null   float64\n",
            " 15  Category 15  5456 non-null   float64\n",
            " 16  Category 16  5456 non-null   float64\n",
            " 17  Category 17  5456 non-null   float64\n",
            " 18  Category 18  5456 non-null   float64\n",
            " 19  Category 19  5456 non-null   float64\n",
            " 20  Category 20  5456 non-null   float64\n",
            " 21  Category 21  5456 non-null   float64\n",
            " 22  Category 22  5456 non-null   float64\n",
            " 23  Category 23  5456 non-null   float64\n",
            " 24  Category 24  5456 non-null   float64\n",
            "dtypes: float64(23), object(2)\n",
            "memory usage: 1.0+ MB\n"
          ]
        }
      ]
    },
    {
      "cell_type": "code",
      "source": [
        "df.dropna(inplace=True)"
      ],
      "metadata": {
        "id": "agpA_hX7itka"
      },
      "execution_count": null,
      "outputs": []
    },
    {
      "cell_type": "code",
      "source": [
        "df.info()"
      ],
      "metadata": {
        "colab": {
          "base_uri": "https://localhost:8080/"
        },
        "id": "zjnR5_j7paKf",
        "outputId": "d068f7b9-d998-434d-8015-49850da5a7b7"
      },
      "execution_count": null,
      "outputs": [
        {
          "output_type": "stream",
          "name": "stdout",
          "text": [
            "<class 'pandas.core.frame.DataFrame'>\n",
            "Index: 5455 entries, 0 to 5455\n",
            "Data columns (total 25 columns):\n",
            " #   Column       Non-Null Count  Dtype  \n",
            "---  ------       --------------  -----  \n",
            " 0   User         5455 non-null   object \n",
            " 1   Category 1   5455 non-null   float64\n",
            " 2   Category 2   5455 non-null   float64\n",
            " 3   Category 3   5455 non-null   float64\n",
            " 4   Category 4   5455 non-null   float64\n",
            " 5   Category 5   5455 non-null   float64\n",
            " 6   Category 6   5455 non-null   float64\n",
            " 7   Category 7   5455 non-null   float64\n",
            " 8   Category 8   5455 non-null   float64\n",
            " 9   Category 9   5455 non-null   float64\n",
            " 10  Category 10  5455 non-null   float64\n",
            " 11  Category 11  5455 non-null   object \n",
            " 12  Category 12  5455 non-null   float64\n",
            " 13  Category 13  5455 non-null   float64\n",
            " 14  Category 14  5455 non-null   float64\n",
            " 15  Category 15  5455 non-null   float64\n",
            " 16  Category 16  5455 non-null   float64\n",
            " 17  Category 17  5455 non-null   float64\n",
            " 18  Category 18  5455 non-null   float64\n",
            " 19  Category 19  5455 non-null   float64\n",
            " 20  Category 20  5455 non-null   float64\n",
            " 21  Category 21  5455 non-null   float64\n",
            " 22  Category 22  5455 non-null   float64\n",
            " 23  Category 23  5455 non-null   float64\n",
            " 24  Category 24  5455 non-null   float64\n",
            "dtypes: float64(23), object(2)\n",
            "memory usage: 1.1+ MB\n"
          ]
        }
      ]
    },
    {
      "cell_type": "code",
      "source": [
        "df['Category 11'] = df['Category 11'].astype('float')"
      ],
      "metadata": {
        "id": "kOKaopFpoHRa"
      },
      "execution_count": null,
      "outputs": []
    },
    {
      "cell_type": "code",
      "source": [
        "df.info()"
      ],
      "metadata": {
        "colab": {
          "base_uri": "https://localhost:8080/"
        },
        "id": "YJDyfvvKoLyf",
        "outputId": "354cea2a-0947-4517-8233-647168c32562"
      },
      "execution_count": null,
      "outputs": [
        {
          "output_type": "stream",
          "name": "stdout",
          "text": [
            "<class 'pandas.core.frame.DataFrame'>\n",
            "Index: 5455 entries, 0 to 5455\n",
            "Data columns (total 25 columns):\n",
            " #   Column       Non-Null Count  Dtype  \n",
            "---  ------       --------------  -----  \n",
            " 0   User         5455 non-null   object \n",
            " 1   Category 1   5455 non-null   float64\n",
            " 2   Category 2   5455 non-null   float64\n",
            " 3   Category 3   5455 non-null   float64\n",
            " 4   Category 4   5455 non-null   float64\n",
            " 5   Category 5   5455 non-null   float64\n",
            " 6   Category 6   5455 non-null   float64\n",
            " 7   Category 7   5455 non-null   float64\n",
            " 8   Category 8   5455 non-null   float64\n",
            " 9   Category 9   5455 non-null   float64\n",
            " 10  Category 10  5455 non-null   float64\n",
            " 11  Category 11  5455 non-null   float64\n",
            " 12  Category 12  5455 non-null   float64\n",
            " 13  Category 13  5455 non-null   float64\n",
            " 14  Category 14  5455 non-null   float64\n",
            " 15  Category 15  5455 non-null   float64\n",
            " 16  Category 16  5455 non-null   float64\n",
            " 17  Category 17  5455 non-null   float64\n",
            " 18  Category 18  5455 non-null   float64\n",
            " 19  Category 19  5455 non-null   float64\n",
            " 20  Category 20  5455 non-null   float64\n",
            " 21  Category 21  5455 non-null   float64\n",
            " 22  Category 22  5455 non-null   float64\n",
            " 23  Category 23  5455 non-null   float64\n",
            " 24  Category 24  5455 non-null   float64\n",
            "dtypes: float64(24), object(1)\n",
            "memory usage: 1.1+ MB\n"
          ]
        }
      ]
    },
    {
      "cell_type": "markdown",
      "source": [
        "Drop User Column"
      ],
      "metadata": {
        "id": "42cwh8Q1oRRO"
      }
    },
    {
      "cell_type": "code",
      "source": [
        "df.drop(['User'], axis = 1, inplace = True)"
      ],
      "metadata": {
        "id": "9Dx-c8ctoN_X"
      },
      "execution_count": null,
      "outputs": []
    },
    {
      "cell_type": "code",
      "source": [
        "print(df.columns)"
      ],
      "metadata": {
        "colab": {
          "base_uri": "https://localhost:8080/"
        },
        "id": "FPheFGRhoVQu",
        "outputId": "5625378d-1c40-4d1a-9163-7175f4840985"
      },
      "execution_count": null,
      "outputs": [
        {
          "output_type": "stream",
          "name": "stdout",
          "text": [
            "Index(['Category 1', 'Category 2', 'Category 3', 'Category 4', 'Category 5',\n",
            "       'Category 6', 'Category 7', 'Category 8', 'Category 9', 'Category 10',\n",
            "       'Category 11', 'Category 12', 'Category 13', 'Category 14',\n",
            "       'Category 15', 'Category 16', 'Category 17', 'Category 18',\n",
            "       'Category 19', 'Category 20', 'Category 21', 'Category 22',\n",
            "       'Category 23', 'Category 24'],\n",
            "      dtype='object')\n"
          ]
        }
      ]
    },
    {
      "cell_type": "code",
      "source": [
        "df.head()"
      ],
      "metadata": {
        "colab": {
          "base_uri": "https://localhost:8080/",
          "height": 273
        },
        "id": "-4BX4A0SoXdm",
        "outputId": "c3806a43-098a-4626-b32c-9d6cac3a0d35"
      },
      "execution_count": null,
      "outputs": [
        {
          "output_type": "execute_result",
          "data": {
            "text/plain": [
              "   Category 1  Category 2  Category 3  Category 4  Category 5  Category 6  \\\n",
              "0         0.0         0.0        3.63        3.65         5.0        2.92   \n",
              "1         0.0         0.0        3.63        3.65         5.0        2.92   \n",
              "2         0.0         0.0        3.63        3.63         5.0        2.92   \n",
              "3         0.0         0.5        3.63        3.63         5.0        2.92   \n",
              "4         0.0         0.0        3.63        3.63         5.0        2.92   \n",
              "\n",
              "   Category 7  Category 8  Category 9  Category 10  ...  Category 15  \\\n",
              "0         5.0        2.35        2.33         2.64  ...         1.74   \n",
              "1         5.0        2.64        2.33         2.65  ...         1.74   \n",
              "2         5.0        2.64        2.33         2.64  ...         1.74   \n",
              "3         5.0        2.35        2.33         2.64  ...         1.74   \n",
              "4         5.0        2.64        2.33         2.64  ...         1.74   \n",
              "\n",
              "   Category 16  Category 17  Category 18  Category 19  Category 20  \\\n",
              "0         0.59          0.5          0.0          0.5          0.0   \n",
              "1         0.59          0.5          0.0          0.5          0.0   \n",
              "2         0.59          0.5          0.0          0.5          0.0   \n",
              "3         0.59          0.5          0.0          0.5          0.0   \n",
              "4         0.59          0.5          0.0          0.5          0.0   \n",
              "\n",
              "   Category 21  Category 22  Category 23  Category 24  \n",
              "0          0.0          0.0          0.0          0.0  \n",
              "1          0.0          0.0          0.0          0.0  \n",
              "2          0.0          0.0          0.0          0.0  \n",
              "3          0.0          0.0          0.0          0.0  \n",
              "4          0.0          0.0          0.0          0.0  \n",
              "\n",
              "[5 rows x 24 columns]"
            ],
            "text/html": [
              "\n",
              "  <div id=\"df-05858250-de38-442e-a2cb-af7c66429820\" class=\"colab-df-container\">\n",
              "    <div>\n",
              "<style scoped>\n",
              "    .dataframe tbody tr th:only-of-type {\n",
              "        vertical-align: middle;\n",
              "    }\n",
              "\n",
              "    .dataframe tbody tr th {\n",
              "        vertical-align: top;\n",
              "    }\n",
              "\n",
              "    .dataframe thead th {\n",
              "        text-align: right;\n",
              "    }\n",
              "</style>\n",
              "<table border=\"1\" class=\"dataframe\">\n",
              "  <thead>\n",
              "    <tr style=\"text-align: right;\">\n",
              "      <th></th>\n",
              "      <th>Category 1</th>\n",
              "      <th>Category 2</th>\n",
              "      <th>Category 3</th>\n",
              "      <th>Category 4</th>\n",
              "      <th>Category 5</th>\n",
              "      <th>Category 6</th>\n",
              "      <th>Category 7</th>\n",
              "      <th>Category 8</th>\n",
              "      <th>Category 9</th>\n",
              "      <th>Category 10</th>\n",
              "      <th>...</th>\n",
              "      <th>Category 15</th>\n",
              "      <th>Category 16</th>\n",
              "      <th>Category 17</th>\n",
              "      <th>Category 18</th>\n",
              "      <th>Category 19</th>\n",
              "      <th>Category 20</th>\n",
              "      <th>Category 21</th>\n",
              "      <th>Category 22</th>\n",
              "      <th>Category 23</th>\n",
              "      <th>Category 24</th>\n",
              "    </tr>\n",
              "  </thead>\n",
              "  <tbody>\n",
              "    <tr>\n",
              "      <th>0</th>\n",
              "      <td>0.0</td>\n",
              "      <td>0.0</td>\n",
              "      <td>3.63</td>\n",
              "      <td>3.65</td>\n",
              "      <td>5.0</td>\n",
              "      <td>2.92</td>\n",
              "      <td>5.0</td>\n",
              "      <td>2.35</td>\n",
              "      <td>2.33</td>\n",
              "      <td>2.64</td>\n",
              "      <td>...</td>\n",
              "      <td>1.74</td>\n",
              "      <td>0.59</td>\n",
              "      <td>0.5</td>\n",
              "      <td>0.0</td>\n",
              "      <td>0.5</td>\n",
              "      <td>0.0</td>\n",
              "      <td>0.0</td>\n",
              "      <td>0.0</td>\n",
              "      <td>0.0</td>\n",
              "      <td>0.0</td>\n",
              "    </tr>\n",
              "    <tr>\n",
              "      <th>1</th>\n",
              "      <td>0.0</td>\n",
              "      <td>0.0</td>\n",
              "      <td>3.63</td>\n",
              "      <td>3.65</td>\n",
              "      <td>5.0</td>\n",
              "      <td>2.92</td>\n",
              "      <td>5.0</td>\n",
              "      <td>2.64</td>\n",
              "      <td>2.33</td>\n",
              "      <td>2.65</td>\n",
              "      <td>...</td>\n",
              "      <td>1.74</td>\n",
              "      <td>0.59</td>\n",
              "      <td>0.5</td>\n",
              "      <td>0.0</td>\n",
              "      <td>0.5</td>\n",
              "      <td>0.0</td>\n",
              "      <td>0.0</td>\n",
              "      <td>0.0</td>\n",
              "      <td>0.0</td>\n",
              "      <td>0.0</td>\n",
              "    </tr>\n",
              "    <tr>\n",
              "      <th>2</th>\n",
              "      <td>0.0</td>\n",
              "      <td>0.0</td>\n",
              "      <td>3.63</td>\n",
              "      <td>3.63</td>\n",
              "      <td>5.0</td>\n",
              "      <td>2.92</td>\n",
              "      <td>5.0</td>\n",
              "      <td>2.64</td>\n",
              "      <td>2.33</td>\n",
              "      <td>2.64</td>\n",
              "      <td>...</td>\n",
              "      <td>1.74</td>\n",
              "      <td>0.59</td>\n",
              "      <td>0.5</td>\n",
              "      <td>0.0</td>\n",
              "      <td>0.5</td>\n",
              "      <td>0.0</td>\n",
              "      <td>0.0</td>\n",
              "      <td>0.0</td>\n",
              "      <td>0.0</td>\n",
              "      <td>0.0</td>\n",
              "    </tr>\n",
              "    <tr>\n",
              "      <th>3</th>\n",
              "      <td>0.0</td>\n",
              "      <td>0.5</td>\n",
              "      <td>3.63</td>\n",
              "      <td>3.63</td>\n",
              "      <td>5.0</td>\n",
              "      <td>2.92</td>\n",
              "      <td>5.0</td>\n",
              "      <td>2.35</td>\n",
              "      <td>2.33</td>\n",
              "      <td>2.64</td>\n",
              "      <td>...</td>\n",
              "      <td>1.74</td>\n",
              "      <td>0.59</td>\n",
              "      <td>0.5</td>\n",
              "      <td>0.0</td>\n",
              "      <td>0.5</td>\n",
              "      <td>0.0</td>\n",
              "      <td>0.0</td>\n",
              "      <td>0.0</td>\n",
              "      <td>0.0</td>\n",
              "      <td>0.0</td>\n",
              "    </tr>\n",
              "    <tr>\n",
              "      <th>4</th>\n",
              "      <td>0.0</td>\n",
              "      <td>0.0</td>\n",
              "      <td>3.63</td>\n",
              "      <td>3.63</td>\n",
              "      <td>5.0</td>\n",
              "      <td>2.92</td>\n",
              "      <td>5.0</td>\n",
              "      <td>2.64</td>\n",
              "      <td>2.33</td>\n",
              "      <td>2.64</td>\n",
              "      <td>...</td>\n",
              "      <td>1.74</td>\n",
              "      <td>0.59</td>\n",
              "      <td>0.5</td>\n",
              "      <td>0.0</td>\n",
              "      <td>0.5</td>\n",
              "      <td>0.0</td>\n",
              "      <td>0.0</td>\n",
              "      <td>0.0</td>\n",
              "      <td>0.0</td>\n",
              "      <td>0.0</td>\n",
              "    </tr>\n",
              "  </tbody>\n",
              "</table>\n",
              "<p>5 rows × 24 columns</p>\n",
              "</div>\n",
              "    <div class=\"colab-df-buttons\">\n",
              "\n",
              "  <div class=\"colab-df-container\">\n",
              "    <button class=\"colab-df-convert\" onclick=\"convertToInteractive('df-05858250-de38-442e-a2cb-af7c66429820')\"\n",
              "            title=\"Convert this dataframe to an interactive table.\"\n",
              "            style=\"display:none;\">\n",
              "\n",
              "  <svg xmlns=\"http://www.w3.org/2000/svg\" height=\"24px\" viewBox=\"0 -960 960 960\">\n",
              "    <path d=\"M120-120v-720h720v720H120Zm60-500h600v-160H180v160Zm220 220h160v-160H400v160Zm0 220h160v-160H400v160ZM180-400h160v-160H180v160Zm440 0h160v-160H620v160ZM180-180h160v-160H180v160Zm440 0h160v-160H620v160Z\"/>\n",
              "  </svg>\n",
              "    </button>\n",
              "\n",
              "  <style>\n",
              "    .colab-df-container {\n",
              "      display:flex;\n",
              "      gap: 12px;\n",
              "    }\n",
              "\n",
              "    .colab-df-convert {\n",
              "      background-color: #E8F0FE;\n",
              "      border: none;\n",
              "      border-radius: 50%;\n",
              "      cursor: pointer;\n",
              "      display: none;\n",
              "      fill: #1967D2;\n",
              "      height: 32px;\n",
              "      padding: 0 0 0 0;\n",
              "      width: 32px;\n",
              "    }\n",
              "\n",
              "    .colab-df-convert:hover {\n",
              "      background-color: #E2EBFA;\n",
              "      box-shadow: 0px 1px 2px rgba(60, 64, 67, 0.3), 0px 1px 3px 1px rgba(60, 64, 67, 0.15);\n",
              "      fill: #174EA6;\n",
              "    }\n",
              "\n",
              "    .colab-df-buttons div {\n",
              "      margin-bottom: 4px;\n",
              "    }\n",
              "\n",
              "    [theme=dark] .colab-df-convert {\n",
              "      background-color: #3B4455;\n",
              "      fill: #D2E3FC;\n",
              "    }\n",
              "\n",
              "    [theme=dark] .colab-df-convert:hover {\n",
              "      background-color: #434B5C;\n",
              "      box-shadow: 0px 1px 3px 1px rgba(0, 0, 0, 0.15);\n",
              "      filter: drop-shadow(0px 1px 2px rgba(0, 0, 0, 0.3));\n",
              "      fill: #FFFFFF;\n",
              "    }\n",
              "  </style>\n",
              "\n",
              "    <script>\n",
              "      const buttonEl =\n",
              "        document.querySelector('#df-05858250-de38-442e-a2cb-af7c66429820 button.colab-df-convert');\n",
              "      buttonEl.style.display =\n",
              "        google.colab.kernel.accessAllowed ? 'block' : 'none';\n",
              "\n",
              "      async function convertToInteractive(key) {\n",
              "        const element = document.querySelector('#df-05858250-de38-442e-a2cb-af7c66429820');\n",
              "        const dataTable =\n",
              "          await google.colab.kernel.invokeFunction('convertToInteractive',\n",
              "                                                    [key], {});\n",
              "        if (!dataTable) return;\n",
              "\n",
              "        const docLinkHtml = 'Like what you see? Visit the ' +\n",
              "          '<a target=\"_blank\" href=https://colab.research.google.com/notebooks/data_table.ipynb>data table notebook</a>'\n",
              "          + ' to learn more about interactive tables.';\n",
              "        element.innerHTML = '';\n",
              "        dataTable['output_type'] = 'display_data';\n",
              "        await google.colab.output.renderOutput(dataTable, element);\n",
              "        const docLink = document.createElement('div');\n",
              "        docLink.innerHTML = docLinkHtml;\n",
              "        element.appendChild(docLink);\n",
              "      }\n",
              "    </script>\n",
              "  </div>\n",
              "\n",
              "\n",
              "<div id=\"df-886b53b3-0672-4a5d-ba7d-81b92f90efc9\">\n",
              "  <button class=\"colab-df-quickchart\" onclick=\"quickchart('df-886b53b3-0672-4a5d-ba7d-81b92f90efc9')\"\n",
              "            title=\"Suggest charts\"\n",
              "            style=\"display:none;\">\n",
              "\n",
              "<svg xmlns=\"http://www.w3.org/2000/svg\" height=\"24px\"viewBox=\"0 0 24 24\"\n",
              "     width=\"24px\">\n",
              "    <g>\n",
              "        <path d=\"M19 3H5c-1.1 0-2 .9-2 2v14c0 1.1.9 2 2 2h14c1.1 0 2-.9 2-2V5c0-1.1-.9-2-2-2zM9 17H7v-7h2v7zm4 0h-2V7h2v10zm4 0h-2v-4h2v4z\"/>\n",
              "    </g>\n",
              "</svg>\n",
              "  </button>\n",
              "\n",
              "<style>\n",
              "  .colab-df-quickchart {\n",
              "      --bg-color: #E8F0FE;\n",
              "      --fill-color: #1967D2;\n",
              "      --hover-bg-color: #E2EBFA;\n",
              "      --hover-fill-color: #174EA6;\n",
              "      --disabled-fill-color: #AAA;\n",
              "      --disabled-bg-color: #DDD;\n",
              "  }\n",
              "\n",
              "  [theme=dark] .colab-df-quickchart {\n",
              "      --bg-color: #3B4455;\n",
              "      --fill-color: #D2E3FC;\n",
              "      --hover-bg-color: #434B5C;\n",
              "      --hover-fill-color: #FFFFFF;\n",
              "      --disabled-bg-color: #3B4455;\n",
              "      --disabled-fill-color: #666;\n",
              "  }\n",
              "\n",
              "  .colab-df-quickchart {\n",
              "    background-color: var(--bg-color);\n",
              "    border: none;\n",
              "    border-radius: 50%;\n",
              "    cursor: pointer;\n",
              "    display: none;\n",
              "    fill: var(--fill-color);\n",
              "    height: 32px;\n",
              "    padding: 0;\n",
              "    width: 32px;\n",
              "  }\n",
              "\n",
              "  .colab-df-quickchart:hover {\n",
              "    background-color: var(--hover-bg-color);\n",
              "    box-shadow: 0 1px 2px rgba(60, 64, 67, 0.3), 0 1px 3px 1px rgba(60, 64, 67, 0.15);\n",
              "    fill: var(--button-hover-fill-color);\n",
              "  }\n",
              "\n",
              "  .colab-df-quickchart-complete:disabled,\n",
              "  .colab-df-quickchart-complete:disabled:hover {\n",
              "    background-color: var(--disabled-bg-color);\n",
              "    fill: var(--disabled-fill-color);\n",
              "    box-shadow: none;\n",
              "  }\n",
              "\n",
              "  .colab-df-spinner {\n",
              "    border: 2px solid var(--fill-color);\n",
              "    border-color: transparent;\n",
              "    border-bottom-color: var(--fill-color);\n",
              "    animation:\n",
              "      spin 1s steps(1) infinite;\n",
              "  }\n",
              "\n",
              "  @keyframes spin {\n",
              "    0% {\n",
              "      border-color: transparent;\n",
              "      border-bottom-color: var(--fill-color);\n",
              "      border-left-color: var(--fill-color);\n",
              "    }\n",
              "    20% {\n",
              "      border-color: transparent;\n",
              "      border-left-color: var(--fill-color);\n",
              "      border-top-color: var(--fill-color);\n",
              "    }\n",
              "    30% {\n",
              "      border-color: transparent;\n",
              "      border-left-color: var(--fill-color);\n",
              "      border-top-color: var(--fill-color);\n",
              "      border-right-color: var(--fill-color);\n",
              "    }\n",
              "    40% {\n",
              "      border-color: transparent;\n",
              "      border-right-color: var(--fill-color);\n",
              "      border-top-color: var(--fill-color);\n",
              "    }\n",
              "    60% {\n",
              "      border-color: transparent;\n",
              "      border-right-color: var(--fill-color);\n",
              "    }\n",
              "    80% {\n",
              "      border-color: transparent;\n",
              "      border-right-color: var(--fill-color);\n",
              "      border-bottom-color: var(--fill-color);\n",
              "    }\n",
              "    90% {\n",
              "      border-color: transparent;\n",
              "      border-bottom-color: var(--fill-color);\n",
              "    }\n",
              "  }\n",
              "</style>\n",
              "\n",
              "  <script>\n",
              "    async function quickchart(key) {\n",
              "      const quickchartButtonEl =\n",
              "        document.querySelector('#' + key + ' button');\n",
              "      quickchartButtonEl.disabled = true;  // To prevent multiple clicks.\n",
              "      quickchartButtonEl.classList.add('colab-df-spinner');\n",
              "      try {\n",
              "        const charts = await google.colab.kernel.invokeFunction(\n",
              "            'suggestCharts', [key], {});\n",
              "      } catch (error) {\n",
              "        console.error('Error during call to suggestCharts:', error);\n",
              "      }\n",
              "      quickchartButtonEl.classList.remove('colab-df-spinner');\n",
              "      quickchartButtonEl.classList.add('colab-df-quickchart-complete');\n",
              "    }\n",
              "    (() => {\n",
              "      let quickchartButtonEl =\n",
              "        document.querySelector('#df-886b53b3-0672-4a5d-ba7d-81b92f90efc9 button');\n",
              "      quickchartButtonEl.style.display =\n",
              "        google.colab.kernel.accessAllowed ? 'block' : 'none';\n",
              "    })();\n",
              "  </script>\n",
              "</div>\n",
              "\n",
              "    </div>\n",
              "  </div>\n"
            ],
            "application/vnd.google.colaboratory.intrinsic+json": {
              "type": "dataframe",
              "variable_name": "df"
            }
          },
          "metadata": {},
          "execution_count": 10
        }
      ]
    },
    {
      "cell_type": "markdown",
      "source": [
        "Kmeans Clustering"
      ],
      "metadata": {
        "id": "v5XQOsLyoc7n"
      }
    },
    {
      "cell_type": "code",
      "source": [
        "import warnings\n",
        "\n",
        "warnings.simplefilter(action='ignore')"
      ],
      "metadata": {
        "id": "yMMR4u4NoZ-A"
      },
      "execution_count": null,
      "outputs": []
    },
    {
      "cell_type": "code",
      "source": [
        "#Elbow Method\n",
        "inertia = []\n",
        "for i in range(1,20):\n",
        "  kmeans = KMeans(n_clusters = i)\n",
        "  kmeans.fit(df)\n",
        "  inertia.append(kmeans.inertia_)\n"
      ],
      "metadata": {
        "id": "U_t3mu2Pogyx"
      },
      "execution_count": null,
      "outputs": []
    },
    {
      "cell_type": "code",
      "source": [
        "plt.plot(range(1,20), inertia, 'o-')\n",
        "plt.xlabel(\"Number of Clusters\")\n",
        "plt.ylabel(\"WCSS/Inertia\")\n",
        "plt.title(\"Elbow Curve for KMeans Clustering\")\n",
        "plt.show"
      ],
      "metadata": {
        "colab": {
          "base_uri": "https://localhost:8080/",
          "height": 641
        },
        "id": "Iva9LhYqokBH",
        "outputId": "3127ff43-4927-435e-b2e7-c110f0a1cc6f"
      },
      "execution_count": null,
      "outputs": [
        {
          "output_type": "execute_result",
          "data": {
            "text/plain": [
              "<function matplotlib.pyplot.show(close=None, block=None)>"
            ],
            "text/html": [
              "<div style=\"max-width:800px; border: 1px solid var(--colab-border-color);\"><style>\n",
              "      pre.function-repr-contents {\n",
              "        overflow-x: auto;\n",
              "        padding: 8px 12px;\n",
              "        max-height: 500px;\n",
              "      }\n",
              "\n",
              "      pre.function-repr-contents.function-repr-contents-collapsed {\n",
              "        cursor: pointer;\n",
              "        max-height: 100px;\n",
              "      }\n",
              "    </style>\n",
              "    <pre style=\"white-space: initial; background:\n",
              "         var(--colab-secondary-surface-color); padding: 8px 12px;\n",
              "         border-bottom: 1px solid var(--colab-border-color);\"><b>matplotlib.pyplot.show</b><br/>def show(*args, **kwargs)</pre><pre class=\"function-repr-contents function-repr-contents-collapsed\" style=\"\"><a class=\"filepath\" style=\"display:none\" href=\"#\">/usr/local/lib/python3.10/dist-packages/matplotlib/pyplot.py</a>Display all open figures.\n",
              "\n",
              "Parameters\n",
              "----------\n",
              "block : bool, optional\n",
              "    Whether to wait for all figures to be closed before returning.\n",
              "\n",
              "    If `True` block and run the GUI main loop until all figure windows\n",
              "    are closed.\n",
              "\n",
              "    If `False` ensure that all figure windows are displayed and return\n",
              "    immediately.  In this case, you are responsible for ensuring\n",
              "    that the event loop is running to have responsive figures.\n",
              "\n",
              "    Defaults to True in non-interactive mode and to False in interactive\n",
              "    mode (see `.pyplot.isinteractive`).\n",
              "\n",
              "See Also\n",
              "--------\n",
              "ion : Enable interactive mode, which shows / updates the figure after\n",
              "      every plotting command, so that calling ``show()`` is not necessary.\n",
              "ioff : Disable interactive mode.\n",
              "savefig : Save the figure to an image file instead of showing it on screen.\n",
              "\n",
              "Notes\n",
              "-----\n",
              "**Saving figures to file and showing a window at the same time**\n",
              "\n",
              "If you want an image file as well as a user interface window, use\n",
              "`.pyplot.savefig` before `.pyplot.show`. At the end of (a blocking)\n",
              "``show()`` the figure is closed and thus unregistered from pyplot. Calling\n",
              "`.pyplot.savefig` afterwards would save a new and thus empty figure. This\n",
              "limitation of command order does not apply if the show is non-blocking or\n",
              "if you keep a reference to the figure and use `.Figure.savefig`.\n",
              "\n",
              "**Auto-show in jupyter notebooks**\n",
              "\n",
              "The jupyter backends (activated via ``%matplotlib inline``,\n",
              "``%matplotlib notebook``, or ``%matplotlib widget``), call ``show()`` at\n",
              "the end of every cell by default. Thus, you usually don&#x27;t have to call it\n",
              "explicitly there.</pre>\n",
              "      <script>\n",
              "      if (google.colab.kernel.accessAllowed && google.colab.files && google.colab.files.view) {\n",
              "        for (const element of document.querySelectorAll('.filepath')) {\n",
              "          element.style.display = 'block'\n",
              "          element.onclick = (event) => {\n",
              "            event.preventDefault();\n",
              "            event.stopPropagation();\n",
              "            google.colab.files.view(element.textContent, 401);\n",
              "          };\n",
              "        }\n",
              "      }\n",
              "      for (const element of document.querySelectorAll('.function-repr-contents')) {\n",
              "        element.onclick = (event) => {\n",
              "          event.preventDefault();\n",
              "          event.stopPropagation();\n",
              "          element.classList.toggle('function-repr-contents-collapsed');\n",
              "        };\n",
              "      }\n",
              "      </script>\n",
              "      </div>"
            ]
          },
          "metadata": {},
          "execution_count": 13
        },
        {
          "output_type": "display_data",
          "data": {
            "text/plain": [
              "<Figure size 640x480 with 1 Axes>"
            ],
            "image/png": "[encoded data removed]"
          },
          "metadata": {}
        }
      ]
    },
    {
      "cell_type": "code",
      "source": [
        "kmeans = KMeans(n_clusters = 15, random_state = 123)\n",
        "kmeans.fit(df)\n",
        "df['Cluster']=kmeans.labels_"
      ],
      "metadata": {
        "id": "FKSPeRG6onux"
      },
      "execution_count": null,
      "outputs": []
    },
    {
      "cell_type": "code",
      "source": [
        "from sklearn.metrics import silhouette_score"
      ],
      "metadata": {
        "id": "oJkvP2qjotuV"
      },
      "execution_count": null,
      "outputs": []
    },
    {
      "cell_type": "code",
      "source": [
        "print(round(silhouette_score(df, kmeans.fit_predict(df)),2))"
      ],
      "metadata": {
        "colab": {
          "base_uri": "https://localhost:8080/"
        },
        "id": "mcy5MZdUoxNy",
        "outputId": "751955ad-ea79-4d91-94ee-6bd865ef2bcc"
      },
      "execution_count": null,
      "outputs": [
        {
          "output_type": "stream",
          "name": "stdout",
          "text": [
            "0.27\n"
          ]
        }
      ]
    },
    {
      "cell_type": "code",
      "source": [
        "cluster_behavior =df.groupby('Cluster').mean()\n"
      ],
      "metadata": {
        "id": "eIw0kTRmrpKA"
      },
      "execution_count": null,
      "outputs": []
    },
    {
      "cell_type": "code",
      "source": [
        "print(cluster_behavior)\n"
      ],
      "metadata": {
        "colab": {
          "base_uri": "https://localhost:8080/"
        },
        "id": "3cabGUh3rtbU",
        "outputId": "0da02cf2-4073-4526-e8aa-4dfa086b7cc7"
      },
      "execution_count": null,
      "outputs": [
        {
          "output_type": "stream",
          "name": "stdout",
          "text": [
            "         Category 1  Category 2  Category 3  Category 4  Category 5  \\\n",
            "Cluster                                                               \n",
            "0          1.254264    1.460271    1.631168    2.210389    2.268579   \n",
            "1          1.332444    4.590250    4.265000    4.133056    4.627944   \n",
            "2          0.752640    0.928652    1.643764    1.599242    1.584382   \n",
            "3          2.266358    3.797778    3.620494    3.146698    2.615895   \n",
            "4          1.520057    2.115604    3.181075    4.535283    4.240774   \n",
            "5          1.139410    4.989292    2.191651    2.058797    2.211698   \n",
            "6          1.209735    1.668907    2.895573    3.572945    4.412152   \n",
            "7          1.459943    1.675460    2.010172    1.988563    1.985575   \n",
            "8          0.367838    0.908649    1.475946    1.478514    1.603311   \n",
            "9          1.900766    2.143694    2.685225    3.674234    3.649414   \n",
            "10         2.590812    2.569594    2.402219    1.991469    1.851438   \n",
            "11         1.150134    1.304919    2.014005    2.294301    2.624220   \n",
            "12         1.758591    2.631512    2.410653    3.489966    4.442646   \n",
            "13         2.083610    2.357377    2.128494    2.101610    1.999377   \n",
            "14         1.129309    1.309668    2.205754    2.243299    2.591381   \n",
            "\n",
            "         Category 6  Category 7  Category 8  Category 9  Category 10  ...  \\\n",
            "Cluster                                                               ...   \n",
            "0          2.409577    3.527293    3.589780    4.442809     4.432589  ...   \n",
            "1          3.645889    3.116667    2.582806    2.994222     3.249472  ...   \n",
            "2          1.596461    2.875281    1.815843    2.678792     2.876882  ...   \n",
            "3          2.366173    2.288025    1.531790    2.401296     1.324691  ...   \n",
            "4          3.266170    2.514075    1.976830    2.354717     2.571094  ...   \n",
            "5          3.060401    4.618278    3.395495    4.354363     3.540943  ...   \n",
            "6          4.284903    4.170899    2.281869    2.176296     2.157919  ...   \n",
            "7          1.955057    3.407184    2.184885    2.618793     2.444425  ...   \n",
            "8          1.620878    2.978919    2.361757    3.030405     3.237162  ...   \n",
            "9          2.881622    3.335901    2.977568    3.714640     3.467883  ...   \n",
            "10         1.574469    1.507375    1.295094    1.496312     1.516188  ...   \n",
            "11         3.701694    4.518548    3.467688    4.833172     3.351935  ...   \n",
            "12         3.469175    3.669038    3.016495    2.742543     2.656117  ...   \n",
            "13         1.908130    2.062701    1.732286    1.817143     1.677273  ...   \n",
            "14         3.609054    4.750639    3.187212    4.570870     3.322302  ...   \n",
            "\n",
            "         Category 15  Category 16  Category 17  Category 18  Category 19  \\\n",
            "Cluster                                                                    \n",
            "0           1.512876     1.207513     0.706633     0.368951     0.310102   \n",
            "1           1.761861     1.573528     0.417750     0.236417     0.286972   \n",
            "2           4.991152     0.696264     0.665028     0.780309     1.202893   \n",
            "3           1.879352     0.883457     0.844444     0.809506     1.843611   \n",
            "4           1.110283     1.281849     0.882679     0.639453     0.582547   \n",
            "5           3.070094     0.729575     0.677736     0.689127     0.671981   \n",
            "6           1.331393     1.025873     0.720282     0.492134     0.530300   \n",
            "7           4.302816     4.887586     3.379253     1.897701     0.547931   \n",
            "8           0.865000     0.921689     1.202838     1.370878     1.670743   \n",
            "9           1.722838     1.025991     0.895405     0.766486     0.702883   \n",
            "10          2.511875     1.678312     1.303750     1.311344     1.660250   \n",
            "11          1.011935     0.685215     0.501183     0.422742     0.532581   \n",
            "12          1.054433     0.775636     0.871753     0.741134     0.839347   \n",
            "13          2.154727     1.566260     2.262649     2.582831     3.461403   \n",
            "14          4.856829     0.733836     0.620409     0.620153     0.702967   \n",
            "\n",
            "         Category 20  Category 21  Category 22  Category 23  Category 24  \n",
            "Cluster                                                                   \n",
            "0           0.315313     0.514518     1.229898     1.029645     1.200694  \n",
            "1           0.659444     0.809417     0.883361     1.046556     1.203639  \n",
            "2           1.171180     0.721011     0.675730     0.648230     0.713652  \n",
            "3           2.169691     0.935093     1.491821     1.403457     1.878179  \n",
            "4           0.921264     1.112755     4.813528     2.229302     1.736604  \n",
            "5           0.816557     0.791415     0.807877     0.832524     0.968561  \n",
            "6           0.495150     0.636102     0.785062     1.118942     0.957884  \n",
            "7           0.635172     1.235460     1.418851     1.396782     1.415632  \n",
            "8           0.763243     0.221216     0.214865     0.231486     0.461689  \n",
            "9           0.689640     0.704505     4.250811     3.079369     1.703243  \n",
            "10          2.251594     3.087063     4.366437     3.494719     3.280844  \n",
            "11          0.797688     0.870054     1.028360     1.106048     1.128038  \n",
            "12          0.773574     0.785292     0.935258     2.842405     4.042165  \n",
            "13          2.250156     1.426104     2.051351     2.118260     2.291844  \n",
            "14          0.787212     0.844757     0.957033     0.965550     1.053171  \n",
            "\n",
            "[15 rows x 24 columns]\n"
          ]
        }
      ]
    },
    {
      "cell_type": "markdown",
      "source": [
        "Hierarchical Clustering"
      ],
      "metadata": {
        "id": "Rhs26wdEo1uy"
      }
    },
    {
      "cell_type": "code",
      "source": [
        "# Perform hierarchical clustering (linkage calculation)\n",
        "distance_matrix = linkage(df, method='ward')  # Ward's method for minimizing variance\n",
        "\n",
        "# Generate the dendrogram\n",
        "plt.figure(figsize=(15, 10))  # Adjust figure size as desired\n",
        "dendrogram(distance_matrix, labels=np.arange(len(df)))  # Labels for data points\n",
        "plt.title(\"Hierarchical Clustering Dendrogram\")\n",
        "plt.xlabel(\"Number of points in node (or index of point if no parenthesis)\")\n",
        "plt.ylabel(\"Distance\")\n",
        "plt.show()"
      ],
      "metadata": {
        "colab": {
          "base_uri": "https://localhost:8080/",
          "height": 876
        },
        "id": "FDDrq6E0oz7N",
        "outputId": "84119fbf-32c4-4cfe-87c4-9fc36f7543b5"
      },
      "execution_count": null,
      "outputs": [
        {
          "output_type": "display_data",
          "data": {
            "text/plain": [
              "<Figure size 1500x1000 with 1 Axes>"
            ],
            "image/png": "[encoded data removed]"
          },
          "metadata": {}
        }
      ]
    },
    {
      "cell_type": "markdown",
      "source": [
        "Agglomerative Clustering"
      ],
      "metadata": {
        "id": "GLB2pIvUo-Ls"
      }
    },
    {
      "cell_type": "code",
      "source": [
        "from sklearn.cluster import AgglomerativeClustering"
      ],
      "metadata": {
        "id": "i5_6Y4E0o6Om"
      },
      "execution_count": null,
      "outputs": []
    },
    {
      "cell_type": "code",
      "source": [
        "agg = AgglomerativeClustering(n_clusters=3)\n",
        "agg.fit(df)\n",
        "df['Cluster']=agg.labels_"
      ],
      "metadata": {
        "id": "cYDh91XcpBWE"
      },
      "execution_count": null,
      "outputs": []
    },
    {
      "cell_type": "code",
      "source": [
        "print(round(silhouette_score(df, agg.fit_predict(df)),2))"
      ],
      "metadata": {
        "colab": {
          "base_uri": "https://localhost:8080/"
        },
        "id": "kGBlOMTPpDhY",
        "outputId": "c0be1f19-2ba8-42e5-f971-8f08384ef25c"
      },
      "execution_count": null,
      "outputs": [
        {
          "output_type": "stream",
          "name": "stdout",
          "text": [
            "0.13\n"
          ]
        }
      ]
    },
    {
      "cell_type": "code",
      "source": [
        "cluster_behavior = df.groupby('Cluster').mean()\n"
      ],
      "metadata": {
        "id": "T3ZKQ1hHqWvo"
      },
      "execution_count": null,
      "outputs": []
    },
    {
      "cell_type": "code",
      "source": [
        "print(cluster_behavior)\n"
      ],
      "metadata": {
        "colab": {
          "base_uri": "https://localhost:8080/"
        },
        "id": "drxilrEKriKD",
        "outputId": "312c0944-a54a-45b5-91ad-8e60af0bda68"
      },
      "execution_count": null,
      "outputs": [
        {
          "output_type": "stream",
          "name": "stdout",
          "text": [
            "         Category 1  Category 2  Category 3  Category 4  Category 5  \\\n",
            "Cluster                                                               \n",
            "0          1.734995    2.003623    2.269489    2.525997    2.752095   \n",
            "1          1.084620    2.221550    1.793616    1.977800    2.058595   \n",
            "2          1.505438    2.772067    3.419943    3.906355    4.076173   \n",
            "\n",
            "         Category 6  Category 7  Category 8  Category 9  Category 10  ...  \\\n",
            "Cluster                                                               ...   \n",
            "0          2.864155    3.344135    2.603502    3.224195     2.628942  ...   \n",
            "1          2.312792    3.619095    2.905229    3.717435     3.543041  ...   \n",
            "2          3.497278    3.098087    2.113428    2.436116     2.366213  ...   \n",
            "\n",
            "         Category 15  Category 16  Category 17  Category 18  Category 19  \\\n",
            "Cluster                                                                    \n",
            "0           2.323801     1.075142     1.096888     1.111984     1.384008   \n",
            "1           2.849042     1.356965     1.005827     0.780116     0.740453   \n",
            "2           1.442671     1.164186     0.727369     0.537944     0.726475   \n",
            "\n",
            "         Category 20  Category 21  Category 22  Category 23  Category 24  \n",
            "Cluster                                                                   \n",
            "0           1.292733     1.293416     2.094352     2.139423     2.182222  \n",
            "1           0.695485     0.676634     0.932687     0.863674     0.991463  \n",
            "2           0.967654     0.878690     2.164277     1.500569     1.419151  \n",
            "\n",
            "[3 rows x 24 columns]\n"
          ]
        }
      ]
    }
  ]
}